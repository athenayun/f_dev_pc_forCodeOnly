{
 "cells": [
  {
   "cell_type": "code",
   "execution_count": 1,
   "metadata": {},
   "outputs": [],
   "source": [
    "import pandas as pd\n",
    "from datetime import datetime"
   ]
  },
  {
   "cell_type": "code",
   "execution_count": 2,
   "metadata": {},
   "outputs": [],
   "source": [
    "df_Taian = pd.read_csv('C://Users//AthenaLee//Documents//code//data//data_SA//Taian.csv', low_memory=False)\n",
    "df_Z_N = pd.read_csv('C://Users//AthenaLee//Documents//code//data//data_SA//Zhongli_N.csv', low_memory=False)\n",
    "df_Z_S = pd.read_csv('C://Users//AthenaLee//Documents//code//data//data_SA//Zhongli_S.csv', low_memory=False)\n",
    "df_Xihu = pd.read_csv('C://Users//AthenaLee//Documents//code//data//data_SA//Xihu.csv', low_memory=False)\n",
    "df_Xilou = pd.read_csv('C://Users//AthenaLee//Documents//code//data//data_SA//Xilou.csv', low_memory=False)\n",
    "df_QingShui = pd.read_csv('C://Users//AthenaLee//Documents//code//data//data_SA//QingShui.csv', low_memory=False)\n",
    "df_Nantou = pd.read_csv('C://Users//AthenaLee//Documents//code//data//data_SA//Nantou.csv', low_memory=False)\n",
    "df_Guanxi = pd.read_csv('C://Users//AthenaLee//Documents//code//data//data_SA//Guanxi.csv', low_memory=False)\n",
    "df_Huko = pd.read_csv('C://Users//AthenaLee//Documents//code//data//data_SA//Huko.csv', low_memory=False)\n",
    "df_Zhongli = pd.concat([df_Z_N, df_Z_S])"
   ]
  },
  {
   "cell_type": "code",
   "execution_count": 3,
   "metadata": {},
   "outputs": [],
   "source": [
    "df = pd.concat([df_Taian, df_Xihu, df_Zhongli, df_Xilou, df_QingShui, df_Nantou, df_Guanxi, df_Huko])"
   ]
  },
  {
   "cell_type": "code",
   "execution_count": 5,
   "metadata": {},
   "outputs": [],
   "source": [
    "df.to_csv('C://Users//AthenaLee//Documents//code//data//data_SA//all.csv', encoding='utf-8')"
   ]
  },
  {
   "cell_type": "code",
   "execution_count": 4,
   "metadata": {},
   "outputs": [],
   "source": [
    "df['ENTRY_TIME'] = pd.to_datetime(df['ENTRY_TIME'],infer_datetime_format=True)\n",
    "df['EXIT_TIME'] = pd.to_datetime(df['EXIT_TIME'],infer_datetime_format=True)\n",
    "df['O_TIME'] = pd.to_datetime(df['O_TIME'],infer_datetime_format=True)\n",
    "df['D_TIME'] = pd.to_datetime(df['D_TIME'],infer_datetime_format=True)"
   ]
  },
  {
   "cell_type": "code",
   "execution_count": 5,
   "metadata": {},
   "outputs": [],
   "source": [
    "gnty_df = pd.read_csv('C://Users//AthenaLee//Documents//code//data//data_SA//GANTRY_NAME.csv', low_memory=False)"
   ]
  },
  {
   "cell_type": "code",
   "execution_count": 6,
   "metadata": {},
   "outputs": [],
   "source": [
    "gnty_cnty_df = pd.read_excel('C://Users//AthenaLee//Documents//code//data//data_SA//GATRY_CITY.xlsx')"
   ]
  },
  {
   "cell_type": "code",
   "execution_count": 7,
   "metadata": {},
   "outputs": [],
   "source": [
    "def make_clean_gantry(x):\n",
    "    x = x.strip()\n",
    "    return x"
   ]
  },
  {
   "cell_type": "code",
   "execution_count": 8,
   "metadata": {},
   "outputs": [],
   "source": [
    "def split_gantry_in(x) :\n",
    "    var = x.split('-')[0]\n",
    "    return var"
   ]
  },
  {
   "cell_type": "code",
   "execution_count": 9,
   "metadata": {},
   "outputs": [],
   "source": [
    "def split_gantry_out(x) :\n",
    "    var = x.split('-')[1]\n",
    "    return var"
   ]
  },
  {
   "cell_type": "code",
   "execution_count": 10,
   "metadata": {},
   "outputs": [],
   "source": [
    "gnty_cnty_df['GANTRY_ID'] = gnty_cnty_df['GANTRY_ID'].apply(make_clean_gantry)"
   ]
  },
  {
   "cell_type": "code",
   "execution_count": 11,
   "metadata": {},
   "outputs": [],
   "source": [
    "gnty_df['GANTRY_ID'] = gnty_df['GANTRY_ID'].apply(make_clean_gantry)\n",
    "gnty_df[\"in\"] = gnty_df['GANTRY_NAME'].apply(split_gantry_in)\n",
    "gnty_df[\"out\"] = gnty_df['GANTRY_NAME'].apply(split_gantry_out)"
   ]
  },
  {
   "cell_type": "code",
   "execution_count": 12,
   "metadata": {},
   "outputs": [],
   "source": [
    "# for each SA df, apply to [\"O_CITY\"]\n",
    "def define_gantry_location_in(x):\n",
    "    #location = ''\n",
    "    for index, gantry in enumerate(gnty_df['GANTRY_ID']):\n",
    "        if x == gantry :\n",
    "            location = gnty_df.iloc[index, :]['in']\n",
    "    return location        "
   ]
  },
  {
   "cell_type": "code",
   "execution_count": 13,
   "metadata": {},
   "outputs": [],
   "source": [
    "# for each SA df, apply to [\"D_CITY\"]\n",
    "def define_gantry_location_out(x):\n",
    "    #location = ''\n",
    "    for index, gantry in enumerate(gnty_df['GANTRY_ID']):\n",
    "        if x == gantry :\n",
    "            location = gnty_df.iloc[index, :]['out']\n",
    "    return location     "
   ]
  },
  {
   "cell_type": "code",
   "execution_count": 16,
   "metadata": {},
   "outputs": [],
   "source": [
    "# for each SA df, apply to [\"O_CITY\", \"D_CITY\"]\n",
    "def define_gantry_location_country(x):\n",
    "    #location = ''\n",
    "    for index, gantry in enumerate(gnty_cnty_df['GANTRY_ID']):\n",
    "        if x == gantry :\n",
    "            location = gnty_cnty_df.iloc[index, :]['CODE_NAME']\n",
    "    return location        "
   ]
  },
  {
   "cell_type": "code",
   "execution_count": 14,
   "metadata": {},
   "outputs": [],
   "source": [
    "df['in_location'] = df['O_CITY'].apply(define_gantry_location_in)\n",
    "df['out_location'] = df['D_CITY'].apply(define_gantry_location_out)"
   ]
  },
  {
   "cell_type": "code",
   "execution_count": 17,
   "metadata": {},
   "outputs": [],
   "source": [
    "#df['in_location'] = df['O_CITY'].apply(define_gantry_location_in)\n",
    "#df['out_location'] = df['D_CITY'].apply(define_gantry_location_out)\n",
    "df['O_COUNTRY'] = df['O_CITY'].apply(define_gantry_location_country)\n",
    "df['D_COUNTRY'] = df['D_CITY'].apply(define_gantry_location_country)"
   ]
  },
  {
   "cell_type": "code",
   "execution_count": 19,
   "metadata": {
    "scrolled": true
   },
   "outputs": [
    {
     "data": {
      "text/plain": [
       "Index(['SERVICE_AREA', 'BMS_TX_BATCH', 'DIRECTION_ID', 'ENTRY_TIME',\n",
       "       'EXIT_TIME', 'STOP', 'STOP_DURATION', 'VEHICLE_ID', 'IDENTITY_ID',\n",
       "       'Gender', 'MVDIS_CATEGORY', 'MANU_YEAR', 'MANU_MONTH', 'VEHICLE_AGE',\n",
       "       'MVDIS_BRAND', 'BRAND', 'Holiday_cnt', 'WEEKDAY_CNT', 'TX_cnt',\n",
       "       'T_MILEAGE', 'O_CITY', 'O_TIME', 'O_MILEAGE', 'D_CITY', 'D_TIME',\n",
       "       'TRIP_DURATION', 'TRIP_DISTANCE', 'ENTRY_SITE', 'EXIT_SITE', 'NAME',\n",
       "       'in_location', 'out_location', 'O_COUNTRY', 'D_COUNTRY'],\n",
       "      dtype='object')"
      ]
     },
     "execution_count": 19,
     "metadata": {},
     "output_type": "execute_result"
    }
   ],
   "source": [
    "df.columns"
   ]
  },
  {
   "cell_type": "code",
   "execution_count": 22,
   "metadata": {},
   "outputs": [],
   "source": [
    "df.to_csv('C://Users//AthenaLee//Documents//code//data//data_SA//all_wOD_2.csv', encoding='utf-8')"
   ]
  },
  {
   "cell_type": "code",
   "execution_count": null,
   "metadata": {},
   "outputs": [],
   "source": []
  },
  {
   "cell_type": "code",
   "execution_count": null,
   "metadata": {},
   "outputs": [],
   "source": []
  },
  {
   "cell_type": "code",
   "execution_count": null,
   "metadata": {},
   "outputs": [],
   "source": [
    "(df.VEHICLE_ID.isin(df[df.STOP == 'P']['VEHICLE_ID'].unique()))"
   ]
  },
  {
   "cell_type": "code",
   "execution_count": null,
   "metadata": {},
   "outputs": [],
   "source": []
  },
  {
   "cell_type": "code",
   "execution_count": null,
   "metadata": {},
   "outputs": [],
   "source": []
  },
  {
   "cell_type": "markdown",
   "metadata": {},
   "source": [
    "#### all of the cars, car brand"
   ]
  },
  {
   "cell_type": "code",
   "execution_count": 14,
   "metadata": {},
   "outputs": [],
   "source": [
    "def sorting_car_brand(df) :\n",
    "    brand_list = []\n",
    "    categories = [31, 32, 41, 42, 5]\n",
    "    car_dict = {}\n",
    "    car_dfs = []\n",
    "    for car in df['VEHICLE_ID'].unique() :\n",
    "        \n",
    "        #brand = pd.DataFrame(df[df.VEHICLE_ID == car].head(1))\n",
    "        brand = df[df.VEHICLE_ID == car].head(1)\n",
    "        \n",
    "        brand_list.append(brand)\n",
    "    brand_df = pd.concat(brand_list, axis=0)\n",
    "    \n",
    "    for category in categories :\n",
    "        series = brand_df[(brand_df.MVDIS_CATEGORY == category)].groupby(\"BRAND\").size().sort_values(0, ascending=False)[:20]\n",
    "        tmp_df = pd.DataFrame(series).reset_index()\n",
    "        car_dict['group_{0}'.format(category)] = tmp_df\n",
    "        car_dfs.append(car_dict['group_{0}'.format(category)])\n",
    "    result_df = pd.concat(car_dfs, axis=1)\n",
    "    \n",
    "    iterables = [['31', '32', '41', '42', '5'], ['BRAND', 'car_num']]\n",
    "    col = pd.MultiIndex.from_product(iterables)\n",
    "    result_df.columns = col\n",
    "    return result_df"
   ]
  },
  {
   "cell_type": "markdown",
   "metadata": {},
   "source": [
    "#### into SA, car brand"
   ]
  },
  {
   "cell_type": "code",
   "execution_count": 15,
   "metadata": {},
   "outputs": [],
   "source": [
    "def sorting_car_brand_inSA(df) :\n",
    "    \n",
    "    categories = [31, 32, 41, 42, 5]\n",
    "    car_dict = {}\n",
    "    car_dfs = []\n",
    "    brand_list = []\n",
    "    for car in df['VEHICLE_ID'].unique() :\n",
    "        \n",
    "        #brand = pd.DataFrame(df[df.VEHICLE_ID == car].head(1))\n",
    "        brand = df[(df.STOP == \"P\")&(df.VEHICLE_ID == car)].head(1)\n",
    "        \n",
    "        brand_list.append(brand)\n",
    "    brand_df = pd.concat(brand_list, axis=0)\n",
    "    \n",
    "    for category in categories :\n",
    "        series = brand_df[(brand_df.MVDIS_CATEGORY == category)].groupby(\"BRAND\").size().sort_values(0, ascending=False)[:20]\n",
    "        tmp_df = pd.DataFrame(series).reset_index()\n",
    "        car_dict['group_{0}'.format(category)] = tmp_df\n",
    "        car_dfs.append(car_dict['group_{0}'.format(category)])\n",
    "    result_df = pd.concat(car_dfs, axis=1)\n",
    "    \n",
    "    iterables = [['31', '32', '41', '42', '5'], ['BRAND', 'car_num']]\n",
    "    col = pd.MultiIndex.from_product(iterables)\n",
    "    result_df.columns = col\n",
    "    return result_df"
   ]
  },
  {
   "cell_type": "code",
   "execution_count": null,
   "metadata": {},
   "outputs": [],
   "source": [
    "carbrand_in_df = sorting_car_brand_inSA(df)"
   ]
  },
  {
   "cell_type": "code",
   "execution_count": 21,
   "metadata": {},
   "outputs": [],
   "source": [
    "def sorting_trip(df) :\n",
    "    SA_name = [\"Taian\", \"Zhongli\", \"Xihu\", \"Xilou\", \"Nantou\", \"QingShui\", \"Huko\", \"Guanxi\"]\n",
    "    SA_Cname = ['泰安', '中壢', '西湖', '西螺', '南投', '清水', '湖口', '關西']\n",
    "    categories = [31, 32, 41, 42, 5]\n",
    "    for idx, sa in enumerate(SA_Cname) :  # the first SA\n",
    "        #writer = pd.ExcelWriter('C://Users//Administrator//Documents//code//data//SA_advanced//analysis_result//{0}_{1}_all_trip.xlsx'.format(sa, category))\n",
    "        categories_df = {}\n",
    "        \n",
    "        for category in categories :\n",
    "            start_time = time.time()\n",
    "            #writer = pd.ExcelWriter('C://Users//Administrator//Documents//code//data//SA_advanced//analysis_result//{0}_{1}_all_trip.xlsx'.format(sa, category))\n",
    "            var_dict = {}\n",
    "            cnt_row = []\n",
    "            for var in SA_Cname :\n",
    "                var_dict['v_{0}'.format(var)] = 0\n",
    "            \n",
    "            unique_bms = df[(df.SERVICE_AREA == sa)&(df.STOP == 'P')&(df.MVDIS_CATEGORY == category)]['BMS_TX_BATCH'].unique()\n",
    "            \n",
    "            first_row = []\n",
    "            second_row = []\n",
    "            third_row = []\n",
    "            col_name = []\n",
    "            \n",
    "            for bms in unique_bms :\n",
    "                series = df[(df.BMS_TX_BATCH == bms)&(df.STOP == 'P')].groupby(\"SERVICE_AREA\").size()\n",
    "                cnt_df = pd.DataFrame(series).reset_index()\n",
    "                length = cnt_df.shape[0]\n",
    "                for p_name in [x for index, x in enumerate(SA_Cname) if index != idx] : # this list won't have the first SA itself \n",
    "                    for idx_cnt, i in cnt_df.iterrows():\n",
    "                        if i.SERVICE_AREA == p_name :\n",
    "                            var_dict[\"v_{0}\".format(p_name)] = var_dict[\"v_{0}\".format(p_name)] + i[0]\n",
    "            print(\"---bms calculation : %s seconds ---\" % (time.time() - start_time))\n",
    "            print('done calculation !')\n",
    "            # trip grouping start here\n",
    "            #bms_df = df[(df.BMS_TX_BATCH.isin(unique_bms))]\n",
    "            for sa2 in [x for index, x in enumerate(SA_Cname) if index != idx] : # sa2 should be the same with p_name\n",
    "                col_name.append(sa2)\n",
    "                select_vID = df[(df.BMS_TX_BATCH.isin(unique_bms))&(df.SERVICE_AREA == sa2)&(df.STOP == 'P')]['VEHICLE_ID'].unique()\n",
    "                trip_series = df[df.VEHICLE_ID.isin(select_vID)].groupby(['in_location', 'out_location']).size().sort_values(0, ascending=False)[:3]\n",
    "                trip_df = pd.DataFrame(trip_series).reset_index()\n",
    "                \n",
    "                for idx_trip, place in trip_df.iterrows():\n",
    "                    place_string = \"{0}-{1}\".format(place['in_location'], place['out_location'])\n",
    "                    trip_dict['{0}_place'.format(idx_trip)] = place_string\n",
    "                    if idx_trip == 0 :\n",
    "                        first_row.append(trip_dict['{0}_place'.format(idx_trip)])\n",
    "                    elif idx_trip == 1 :\n",
    "                        second_row.append(trip_dict['{0}_place'.format(idx_trip)])\n",
    "                    elif idx_trip == 2 :\n",
    "                        third_row.append(trip_dict['{0}_place'.format(idx_trip)])\n",
    "                # collect the variables of car counting\n",
    "                cnt_row.append(var_dict['v_{0}'.format(sa2)])\n",
    "            result_df =  pd.DataFrame([cnt_row, first_row, second_row, third_row], columns = col_name)    \n",
    "            categories_df['{0}_{1}'.format(sa, category)] = result_df\n",
    "            \n",
    "            writer = pd.ExcelWriter('C://Users//AthenaLee//Documents//code//data//data_SA//analysis_result\\ALL_TRIP_SORTING//{0}_{1}_all_trip.xlsx'.format(sa, category))\n",
    "            categories_df['{0}_{1}'.format(sa, category)].to_excel(writer,'{0}_{1}_trip'.format(sa, category)) \n",
    "            writer.save()\n",
    "            print(\"---{0} category {1} : {2} seconds ---\" .format(sa, category,(time.time() - start_time)))\n",
    "            print('done {0} {1} file'.format(sa, category))\n",
    "        # saving excel\n",
    "        #writer = pd.ExcelWriter('C://Users//Administrator//Documents//code//data//SA_advanced//analysis_result//{0}_{1}_all_trip.xlsx'.format(sa, category))\n",
    "        #writer.save()"
   ]
  },
  {
   "cell_type": "code",
   "execution_count": null,
   "metadata": {},
   "outputs": [],
   "source": []
  },
  {
   "cell_type": "code",
   "execution_count": null,
   "metadata": {},
   "outputs": [],
   "source": []
  },
  {
   "cell_type": "code",
   "execution_count": null,
   "metadata": {},
   "outputs": [],
   "source": []
  },
  {
   "cell_type": "code",
   "execution_count": 104,
   "metadata": {},
   "outputs": [],
   "source": [
    "dff1 = df.head(3000000)"
   ]
  },
  {
   "cell_type": "code",
   "execution_count": 105,
   "metadata": {},
   "outputs": [],
   "source": [
    "unique_bms = dff1[(dff1.SERVICE_AREA =='泰安')&(dff1.STOP == 'P')&(dff1.MVDIS_CATEGORY == 31)]['BMS_TX_BATCH'].unique()\n",
    "select_vID = dff1[(dff1.BMS_TX_BATCH.isin(unique_bms))&(dff1.SERVICE_AREA == '中壢')&(dff1.STOP == 'P')]['VEHICLE_ID'].unique()"
   ]
  },
  {
   "cell_type": "code",
   "execution_count": 108,
   "metadata": {},
   "outputs": [
    {
     "data": {
      "text/plain": [
       "pandas.core.series.Series"
      ]
     },
     "execution_count": 108,
     "metadata": {},
     "output_type": "execute_result"
    }
   ],
   "source": [
    "type(dff1[dff1.VEHICLE_ID.isin(select_vID)].groupby(['in_location', 'out_location']).size().sort_values(0, ascending=False)[:3])"
   ]
  },
  {
   "cell_type": "code",
   "execution_count": 109,
   "metadata": {},
   "outputs": [],
   "source": [
    "#tmp_df = pd.DataFrame(series).reset_index().drop([0], axis=1)  \n",
    "series_test = dff1[dff1.VEHICLE_ID.isin(select_vID)].groupby(['in_location', 'out_location']).size().sort_values(0, ascending=False)[:3]\n",
    "s_df = pd.DataFrame(series_test).reset_index()"
   ]
  },
  {
   "cell_type": "code",
   "execution_count": 111,
   "metadata": {},
   "outputs": [
    {
     "data": {
      "text/plain": [
       "0    圓山(建國北路)\n",
       "1    林口(文化北路)\n",
       "2    圓山(建國北路)\n",
       "Name: in_location, dtype: object"
      ]
     },
     "execution_count": 111,
     "metadata": {},
     "output_type": "execute_result"
    }
   ],
   "source": [
    "s_df['in_location']"
   ]
  },
  {
   "cell_type": "code",
   "execution_count": 89,
   "metadata": {},
   "outputs": [],
   "source": [
    "unique_bms_1 = df[(df.SERVICE_AREA == '泰安')&(df.STOP == 'P')&(df.MVDIS_CATEGORY == 31)]['BMS_TX_BATCH'].unique()\n"
   ]
  },
  {
   "cell_type": "code",
   "execution_count": 90,
   "metadata": {},
   "outputs": [
    {
     "data": {
      "text/plain": [
       "1805240002310638579"
      ]
     },
     "execution_count": 90,
     "metadata": {},
     "output_type": "execute_result"
    }
   ],
   "source": [
    "unique_bms_1[0]"
   ]
  },
  {
   "cell_type": "code",
   "execution_count": 91,
   "metadata": {},
   "outputs": [
    {
     "data": {
      "text/html": [
       "<div>\n",
       "<style scoped>\n",
       "    .dataframe tbody tr th:only-of-type {\n",
       "        vertical-align: middle;\n",
       "    }\n",
       "\n",
       "    .dataframe tbody tr th {\n",
       "        vertical-align: top;\n",
       "    }\n",
       "\n",
       "    .dataframe thead th {\n",
       "        text-align: right;\n",
       "    }\n",
       "</style>\n",
       "<table border=\"1\" class=\"dataframe\">\n",
       "  <thead>\n",
       "    <tr style=\"text-align: right;\">\n",
       "      <th></th>\n",
       "      <th>SERVICE_AREA</th>\n",
       "      <th>BMS_TX_BATCH</th>\n",
       "      <th>DIRECTION_ID</th>\n",
       "      <th>ENTRY_TIME</th>\n",
       "      <th>EXIT_TIME</th>\n",
       "      <th>STOP</th>\n",
       "      <th>STOP_DURATION</th>\n",
       "      <th>VEHICLE_ID</th>\n",
       "      <th>IDENTITY_ID</th>\n",
       "      <th>Gender</th>\n",
       "      <th>...</th>\n",
       "      <th>O_MILEAGE</th>\n",
       "      <th>D_CITY</th>\n",
       "      <th>D_TIME</th>\n",
       "      <th>TRIP_DURATION</th>\n",
       "      <th>TRIP_DISTANCE</th>\n",
       "      <th>ENTRY_SITE</th>\n",
       "      <th>EXIT_SITE</th>\n",
       "      <th>NAME</th>\n",
       "      <th>in_location</th>\n",
       "      <th>out_location</th>\n",
       "    </tr>\n",
       "  </thead>\n",
       "  <tbody>\n",
       "    <tr>\n",
       "      <th>14</th>\n",
       "      <td>泰安</td>\n",
       "      <td>1805240002310638579</td>\n",
       "      <td>S</td>\n",
       "      <td>2018-05-24 10:04:15.407</td>\n",
       "      <td>2018-05-24 10:13:22.197</td>\n",
       "      <td>P</td>\n",
       "      <td>9</td>\n",
       "      <td>12666124</td>\n",
       "      <td>E</td>\n",
       "      <td>男</td>\n",
       "      <td>...</td>\n",
       "      <td>103.4</td>\n",
       "      <td>01F2089S</td>\n",
       "      <td>2018-05-24 10:41:30.037</td>\n",
       "      <td>103</td>\n",
       "      <td>148.7</td>\n",
       "      <td>01F1572S</td>\n",
       "      <td>01F1621S</td>\n",
       "      <td>NaN</td>\n",
       "      <td>內壢</td>\n",
       "      <td>員林</td>\n",
       "    </tr>\n",
       "    <tr>\n",
       "      <th>518490</th>\n",
       "      <td>湖口</td>\n",
       "      <td>1805240002310638579</td>\n",
       "      <td>S</td>\n",
       "      <td>2018-05-24 09:13:02.290</td>\n",
       "      <td>2018-05-24 09:23:07.603</td>\n",
       "      <td>P</td>\n",
       "      <td>10</td>\n",
       "      <td>12666124</td>\n",
       "      <td>E</td>\n",
       "      <td>男</td>\n",
       "      <td>...</td>\n",
       "      <td>26.5</td>\n",
       "      <td>01F2089S</td>\n",
       "      <td>2018-05-24 10:41:30.037</td>\n",
       "      <td>103</td>\n",
       "      <td>153.4</td>\n",
       "      <td>01F0750S</td>\n",
       "      <td>01F0880S</td>\n",
       "      <td>NaN</td>\n",
       "      <td>內壢</td>\n",
       "      <td>員林</td>\n",
       "    </tr>\n",
       "  </tbody>\n",
       "</table>\n",
       "<p>2 rows × 32 columns</p>\n",
       "</div>"
      ],
      "text/plain": [
       "       SERVICE_AREA         BMS_TX_BATCH DIRECTION_ID              ENTRY_TIME  \\\n",
       "14               泰安  1805240002310638579            S 2018-05-24 10:04:15.407   \n",
       "518490           湖口  1805240002310638579            S 2018-05-24 09:13:02.290   \n",
       "\n",
       "                     EXIT_TIME STOP  STOP_DURATION  VEHICLE_ID IDENTITY_ID  \\\n",
       "14     2018-05-24 10:13:22.197    P              9    12666124           E   \n",
       "518490 2018-05-24 09:23:07.603    P             10    12666124           E   \n",
       "\n",
       "       Gender      ...       O_MILEAGE    D_CITY                  D_TIME  \\\n",
       "14          男      ...           103.4  01F2089S 2018-05-24 10:41:30.037   \n",
       "518490      男      ...            26.5  01F2089S 2018-05-24 10:41:30.037   \n",
       "\n",
       "        TRIP_DURATION TRIP_DISTANCE  ENTRY_SITE   EXIT_SITE  NAME  \\\n",
       "14                103         148.7  01F1572S    01F1621S     NaN   \n",
       "518490            103         153.4  01F0750S    01F0880S     NaN   \n",
       "\n",
       "        in_location  out_location  \n",
       "14               內壢            員林  \n",
       "518490           內壢            員林  \n",
       "\n",
       "[2 rows x 32 columns]"
      ]
     },
     "execution_count": 91,
     "metadata": {},
     "output_type": "execute_result"
    }
   ],
   "source": [
    "df[(df.BMS_TX_BATCH == 1805240002310638579)&(df.STOP =='P')]"
   ]
  },
  {
   "cell_type": "code",
   "execution_count": 86,
   "metadata": {},
   "outputs": [
    {
     "name": "stdout",
     "output_type": "stream",
     "text": [
      "['中壢', '西湖', '西螺', '南投', '清水', '湖口', '關西']\n",
      "['泰安', '西湖', '西螺', '南投', '清水', '湖口', '關西']\n",
      "['泰安', '中壢', '西螺', '南投', '清水', '湖口', '關西']\n",
      "['泰安', '中壢', '西湖', '南投', '清水', '湖口', '關西']\n",
      "['泰安', '中壢', '西湖', '西螺', '清水', '湖口', '關西']\n",
      "['泰安', '中壢', '西湖', '西螺', '南投', '湖口', '關西']\n",
      "['泰安', '中壢', '西湖', '西螺', '南投', '清水', '關西']\n",
      "['泰安', '中壢', '西湖', '西螺', '南投', '清水', '湖口']\n"
     ]
    }
   ],
   "source": [
    "SA_name = [\"Taian\", \"Zhongli\", \"Xihu\", \"Xilou\", \"Nantou\", \"QingShui\", \"Huko\", \"Guanxi\"]\n",
    "SA_Cname = ['泰安', '中壢', '西湖', '西螺', '南投', '清水', '湖口', '關西']\n",
    "categories = [31, 32, 41, 42, 5]\n",
    "for idx, sa in enumerate(SA_Cname) :\n",
    "    ll = [y for index, y in enumerate(SA_Cname) if index != idx]\n",
    "    print(ll)"
   ]
  },
  {
   "cell_type": "code",
   "execution_count": 34,
   "metadata": {
    "scrolled": true
   },
   "outputs": [
    {
     "data": {
      "text/plain": [
       "STOP\n",
       "P     48100\n",
       "T    231980\n",
       "dtype: int64"
      ]
     },
     "execution_count": 34,
     "metadata": {},
     "output_type": "execute_result"
    }
   ],
   "source": [
    "df_Guanxi.groupby('STOP').size()"
   ]
  },
  {
   "cell_type": "code",
   "execution_count": 88,
   "metadata": {},
   "outputs": [
    {
     "data": {
      "text/html": [
       "<div>\n",
       "<style scoped>\n",
       "    .dataframe tbody tr th:only-of-type {\n",
       "        vertical-align: middle;\n",
       "    }\n",
       "\n",
       "    .dataframe tbody tr th {\n",
       "        vertical-align: top;\n",
       "    }\n",
       "\n",
       "    .dataframe thead th {\n",
       "        text-align: right;\n",
       "    }\n",
       "</style>\n",
       "<table border=\"1\" class=\"dataframe\">\n",
       "  <thead>\n",
       "    <tr style=\"text-align: right;\">\n",
       "      <th></th>\n",
       "      <th>SERVICE_AREA</th>\n",
       "      <th>BMS_TX_BATCH</th>\n",
       "      <th>DIRECTION_ID</th>\n",
       "      <th>ENTRY_TIME</th>\n",
       "      <th>EXIT_TIME</th>\n",
       "      <th>STOP</th>\n",
       "      <th>STOP_DURATION</th>\n",
       "      <th>VEHICLE_ID</th>\n",
       "      <th>IDENTITY_ID</th>\n",
       "      <th>Gender</th>\n",
       "      <th>...</th>\n",
       "      <th>O_MILEAGE</th>\n",
       "      <th>D_CITY</th>\n",
       "      <th>D_TIME</th>\n",
       "      <th>TRIP_DURATION</th>\n",
       "      <th>TRIP_DISTANCE</th>\n",
       "      <th>ENTRY_SITE</th>\n",
       "      <th>EXIT_SITE</th>\n",
       "      <th>NAME</th>\n",
       "      <th>in_location</th>\n",
       "      <th>out_location</th>\n",
       "    </tr>\n",
       "  </thead>\n",
       "  <tbody>\n",
       "    <tr>\n",
       "      <th>14</th>\n",
       "      <td>泰安</td>\n",
       "      <td>1805240002310638579</td>\n",
       "      <td>S</td>\n",
       "      <td>2018-05-24 10:04:15.407</td>\n",
       "      <td>2018-05-24 10:13:22.197</td>\n",
       "      <td>P</td>\n",
       "      <td>9</td>\n",
       "      <td>12666124</td>\n",
       "      <td>E</td>\n",
       "      <td>男</td>\n",
       "      <td>...</td>\n",
       "      <td>103.4</td>\n",
       "      <td>01F2089S</td>\n",
       "      <td>2018-05-24 10:41:30.037</td>\n",
       "      <td>103</td>\n",
       "      <td>148.7</td>\n",
       "      <td>01F1572S</td>\n",
       "      <td>01F1621S</td>\n",
       "      <td>NaN</td>\n",
       "      <td>內壢</td>\n",
       "      <td>員林</td>\n",
       "    </tr>\n",
       "    <tr>\n",
       "      <th>518490</th>\n",
       "      <td>湖口</td>\n",
       "      <td>1805240002310638579</td>\n",
       "      <td>S</td>\n",
       "      <td>2018-05-24 09:13:02.290</td>\n",
       "      <td>2018-05-24 09:23:07.603</td>\n",
       "      <td>P</td>\n",
       "      <td>10</td>\n",
       "      <td>12666124</td>\n",
       "      <td>E</td>\n",
       "      <td>男</td>\n",
       "      <td>...</td>\n",
       "      <td>26.5</td>\n",
       "      <td>01F2089S</td>\n",
       "      <td>2018-05-24 10:41:30.037</td>\n",
       "      <td>103</td>\n",
       "      <td>153.4</td>\n",
       "      <td>01F0750S</td>\n",
       "      <td>01F0880S</td>\n",
       "      <td>NaN</td>\n",
       "      <td>內壢</td>\n",
       "      <td>員林</td>\n",
       "    </tr>\n",
       "  </tbody>\n",
       "</table>\n",
       "<p>2 rows × 32 columns</p>\n",
       "</div>"
      ],
      "text/plain": [
       "       SERVICE_AREA         BMS_TX_BATCH DIRECTION_ID              ENTRY_TIME  \\\n",
       "14               泰安  1805240002310638579            S 2018-05-24 10:04:15.407   \n",
       "518490           湖口  1805240002310638579            S 2018-05-24 09:13:02.290   \n",
       "\n",
       "                     EXIT_TIME STOP  STOP_DURATION  VEHICLE_ID IDENTITY_ID  \\\n",
       "14     2018-05-24 10:13:22.197    P              9    12666124           E   \n",
       "518490 2018-05-24 09:23:07.603    P             10    12666124           E   \n",
       "\n",
       "       Gender      ...       O_MILEAGE    D_CITY                  D_TIME  \\\n",
       "14          男      ...           103.4  01F2089S 2018-05-24 10:41:30.037   \n",
       "518490      男      ...            26.5  01F2089S 2018-05-24 10:41:30.037   \n",
       "\n",
       "        TRIP_DURATION TRIP_DISTANCE  ENTRY_SITE   EXIT_SITE  NAME  \\\n",
       "14                103         148.7  01F1572S    01F1621S     NaN   \n",
       "518490            103         153.4  01F0750S    01F0880S     NaN   \n",
       "\n",
       "        in_location  out_location  \n",
       "14               內壢            員林  \n",
       "518490           內壢            員林  \n",
       "\n",
       "[2 rows x 32 columns]"
      ]
     },
     "execution_count": 88,
     "metadata": {},
     "output_type": "execute_result"
    }
   ],
   "source": [
    "df[(df.BMS_TX_BATCH == 1805240002310638579)&(df.STOP =='P')]"
   ]
  },
  {
   "cell_type": "code",
   "execution_count": 77,
   "metadata": {},
   "outputs": [],
   "source": [
    "ss = df[(df.BMS_TX_BATCH == 1805240002310638579)&(df.STOP =='P')].groupby(\"SERVICE_AREA\").size()"
   ]
  },
  {
   "cell_type": "code",
   "execution_count": 99,
   "metadata": {},
   "outputs": [
    {
     "data": {
      "text/plain": [
       "0    內壢\n",
       "Name: in_location, dtype: object"
      ]
     },
     "execution_count": 99,
     "metadata": {},
     "output_type": "execute_result"
    }
   ],
   "source": [
    "pd.DataFrame(df[(df.BMS_TX_BATCH == 1805240002310638579)&(df.STOP =='P')].groupby([\"in_location\", \"out_location\"]).size()).reset_index()['in_location']"
   ]
  },
  {
   "cell_type": "code",
   "execution_count": 79,
   "metadata": {
    "scrolled": true
   },
   "outputs": [
    {
     "data": {
      "text/plain": [
       "(2, 2)"
      ]
     },
     "execution_count": 79,
     "metadata": {},
     "output_type": "execute_result"
    }
   ],
   "source": [
    "pd.DataFrame(ss).reset_index()"
   ]
  },
  {
   "cell_type": "code",
   "execution_count": 94,
   "metadata": {
    "scrolled": false
   },
   "outputs": [
    {
     "name": "stdout",
     "output_type": "stream",
     "text": [
      "泰安 1\n",
      "湖口 1\n"
     ]
    }
   ],
   "source": [
    "for idx, i in pd.DataFrame(ss).reset_index().iterrows():\n",
    "    print(i.SERVICE_AREA, i[0])"
   ]
  },
  {
   "cell_type": "code",
   "execution_count": 72,
   "metadata": {},
   "outputs": [
    {
     "data": {
      "text/plain": [
       "array([1805240002310638579, 1805240002310299530, 1805240002310676286, ...,\n",
       "       1805270002315944918, 1805260002313027664, 1805260002313634870],\n",
       "      dtype=int64)"
      ]
     },
     "execution_count": 72,
     "metadata": {},
     "output_type": "execute_result"
    }
   ],
   "source": [
    "df[(df.SERVICE_AREA == '泰安')&(df.STOP == 'P')]['BMS_TX_BATCH'].unique()"
   ]
  },
  {
   "cell_type": "code",
   "execution_count": 4,
   "metadata": {},
   "outputs": [
    {
     "data": {
      "text/plain": [
       "[('df', 5832564708),\n",
       " ('df_Zhongli', 1438690426),\n",
       " ('df_Huko', 1109981426),\n",
       " ('df_Taian', 775577090),\n",
       " ('df_Z_N', 729733304),\n",
       " ('df_Z_S', 699828410),\n",
       " ('df_QingShui', 634618047),\n",
       " ('df_Xihu', 587463328),\n",
       " ('df_Nantou', 553695737),\n",
       " ('df_Guanxi', 352333599),\n",
       " ('df_Xilou', 352333599),\n",
       " ('pd', 80)]"
      ]
     },
     "execution_count": 4,
     "metadata": {},
     "output_type": "execute_result"
    }
   ],
   "source": [
    "import sys\n",
    "\n",
    "# These are the usual ipython objects, including this one you are creating\n",
    "ipython_vars = ['In', 'Out', 'exit', 'quit', 'get_ipython', 'ipython_vars']\n",
    "\n",
    "# Get a sorted list of the objects and their sizes\n",
    "sorted([(x, sys.getsizeof(globals().get(x))) for x in dir() if not x.startswith('_') and x not in sys.modules and x not in ipython_vars], key=lambda x: x[1], reverse=True)"
   ]
  },
  {
   "cell_type": "code",
   "execution_count": null,
   "metadata": {},
   "outputs": [],
   "source": []
  }
 ],
 "metadata": {
  "kernelspec": {
   "display_name": "Python 3",
   "language": "python",
   "name": "python3"
  },
  "language_info": {
   "codemirror_mode": {
    "name": "ipython",
    "version": 3
   },
   "file_extension": ".py",
   "mimetype": "text/x-python",
   "name": "python",
   "nbconvert_exporter": "python",
   "pygments_lexer": "ipython3",
   "version": "3.6.5"
  }
 },
 "nbformat": 4,
 "nbformat_minor": 2
}
