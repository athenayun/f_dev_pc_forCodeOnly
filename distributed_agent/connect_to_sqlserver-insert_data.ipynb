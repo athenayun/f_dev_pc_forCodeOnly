{
 "cells": [
  {
   "cell_type": "code",
   "execution_count": 1,
   "metadata": {},
   "outputs": [
    {
     "name": "stdout",
     "output_type": "stream",
     "text": [
      "Requirement already satisfied: sqlalchemy in c:\\users\\athenalee\\anaconda3\\lib\\site-packages (1.2.7)\n"
     ]
    },
    {
     "name": "stderr",
     "output_type": "stream",
     "text": [
      "distributed 1.21.8 requires msgpack, which is not installed.\n",
      "You are using pip version 10.0.1, however version 18.0 is available.\n",
      "You should consider upgrading via the 'python -m pip install --upgrade pip' command.\n"
     ]
    }
   ],
   "source": [
    "!pip install sqlalchemy"
   ]
  },
  {
   "cell_type": "code",
   "execution_count": 14,
   "metadata": {},
   "outputs": [],
   "source": [
    "import pyodbc\n",
    "import sqlalchemy\n",
    "from sqlalchemy import create_engine"
   ]
  },
  {
   "cell_type": "code",
   "execution_count": null,
   "metadata": {},
   "outputs": [],
   "source": [
    "# EXAMPLE - QM_PC\n",
    "db = pyodbc.connect('DRIVER={SQL Server};SERVER=AthenaLee-PC;PORT=1433;DATABASE=athena_practice;UID=;PWD=')"
   ]
  },
  {
   "cell_type": "code",
   "execution_count": 15,
   "metadata": {
    "scrolled": true
   },
   "outputs": [],
   "source": [
    "db = pyodbc.connect('DRIVER={SQL Server};SERVER=ATHENALEE-PC\\SQLEXPRESS;DATABASE=athena_dev;UID=;PWD=')"
   ]
  },
  {
   "cell_type": "code",
   "execution_count": 16,
   "metadata": {},
   "outputs": [],
   "source": [
    "cursor = db.cursor()"
   ]
  },
  {
   "cell_type": "code",
   "execution_count": 11,
   "metadata": {},
   "outputs": [],
   "source": [
    "sql = \"select @@SERVERNAME\""
   ]
  },
  {
   "cell_type": "code",
   "execution_count": 13,
   "metadata": {},
   "outputs": [],
   "source": [
    "re = cursor.execute(sql).fetchall()"
   ]
  },
  {
   "cell_type": "code",
   "execution_count": 14,
   "metadata": {},
   "outputs": [
    {
     "data": {
      "text/plain": [
       "[('ATHENALEE-PC\\\\SQLEXPRESS', )]"
      ]
     },
     "execution_count": 14,
     "metadata": {},
     "output_type": "execute_result"
    }
   ],
   "source": [
    "re"
   ]
  },
  {
   "cell_type": "code",
   "execution_count": null,
   "metadata": {},
   "outputs": [],
   "source": []
  },
  {
   "cell_type": "code",
   "execution_count": null,
   "metadata": {},
   "outputs": [],
   "source": [
    "username = ATHENALEE-PC\\AthenaLee\n",
    "DRIVER={ODBC Driver 13 for SQL Server}"
   ]
  },
  {
   "cell_type": "code",
   "execution_count": null,
   "metadata": {},
   "outputs": [],
   "source": []
  },
  {
   "cell_type": "code",
   "execution_count": null,
   "metadata": {},
   "outputs": [],
   "source": [
    "engine = create_engine(\"mssql+pyodbc://:@AthenaLee-PC:1433/athena_practice?driver={SQL Server}\")"
   ]
  },
  {
   "cell_type": "code",
   "execution_count": null,
   "metadata": {},
   "outputs": [],
   "source": [
    "# SQL Express Instance:\n",
    "engine = sqlalchemy.create_engine('mssql://*server_name*\\\\SQLEXPRESS/*database_name*?trusted_connection=yes') "
   ]
  },
  {
   "cell_type": "code",
   "execution_count": 17,
   "metadata": {},
   "outputs": [],
   "source": [
    "# latest\n",
    "engine = create_engine('mssql://ATHENALEE-PC\\\\SQLEXPRESS/athena_dev?driver=SQL+Server?trusted_connection=yes') "
   ]
  },
  {
   "cell_type": "code",
   "execution_count": 5,
   "metadata": {},
   "outputs": [],
   "source": [
    "import pandas as pd"
   ]
  },
  {
   "cell_type": "code",
   "execution_count": 6,
   "metadata": {},
   "outputs": [],
   "source": [
    "df = pd.read_csv('C://Users//AthenaLee//Documents//code//data//data_SA//Taian.csv', low_memory=False)"
   ]
  },
  {
   "cell_type": "code",
   "execution_count": 9,
   "metadata": {},
   "outputs": [
    {
     "data": {
      "text/plain": [
       "(618834, 30)"
      ]
     },
     "execution_count": 9,
     "metadata": {},
     "output_type": "execute_result"
    }
   ],
   "source": [
    "df.shape"
   ]
  },
  {
   "cell_type": "code",
   "execution_count": 10,
   "metadata": {},
   "outputs": [],
   "source": [
    "df.to_sql(\"Taian\", engine, if_exists='replace', chunksize=10)"
   ]
  },
  {
   "cell_type": "code",
   "execution_count": 13,
   "metadata": {
    "scrolled": true
   },
   "outputs": [
    {
     "name": "stdout",
     "output_type": "stream",
     "text": [
      "Taian : process begin ...\n",
      "Taian : done loading data ...\n",
      "Taian : done transforming data type ...\n",
      "Taian : data inserted successfully !\n",
      "Zhongli : process begin ...\n",
      "Zhongli : done loading data ...\n",
      "Zhongli : done transforming data type ...\n",
      "Zhongli : data inserted successfully !\n",
      "Xihu : process begin ...\n",
      "Xihu : done loading data ...\n",
      "Xihu : done transforming data type ...\n",
      "Xihu : data inserted successfully !\n",
      "Xilou : process begin ...\n",
      "Xilou : done loading data ...\n",
      "Xilou : done transforming data type ...\n",
      "Xilou : data inserted successfully !\n",
      "Nantou : process begin ...\n",
      "Nantou : done loading data ...\n",
      "Nantou : done transforming data type ...\n",
      "Nantou : data inserted successfully !\n",
      "QingShui : process begin ...\n",
      "QingShui : done loading data ...\n",
      "QingShui : done transforming data type ...\n",
      "QingShui : data inserted successfully !\n",
      "Huko : process begin ...\n",
      "===encounter file Huko...SKIP!!===\n",
      "Guanxi : process begin ...\n",
      "===encounter file Guanxi...SKIP!!===\n"
     ]
    }
   ],
   "source": [
    "SA_name = [\"Taian\", \"Zhongli\", \"Xihu\", \"Xilou\", \"Nantou\", \"QingShui\", \"Huko\", \"Guanxi\"]\n",
    "for sa in SA_name :\n",
    "    print(\"{0} : process begin ...\".format(sa))\n",
    "    if sa in [\"Huko\", \"Guanxi\"] :\n",
    "        print(\"===encounter file {0}...SKIP!!===\".format(sa))\n",
    "        continue\n",
    "    elif sa == \"Zhongli\" :\n",
    "        df_N = pd.read_csv('C://Users//AthenaLee//Documents//code//data//data_SA//Zhongli_N.csv', low_memory=False)\n",
    "        df_S = pd.read_csv('C://Users//AthenaLee//Documents//code//data//data_SA//Zhongli_S.csv', low_memory=False)\n",
    "        df = df = pd.concat([df_N, df_S])\n",
    "    else :\n",
    "        df = pd.read_csv('C://Users//AthenaLee//Documents//code//data//data_SA//{0}.csv'.format(sa), low_memory=False)\n",
    "    print(\"{0} : done loading data ...\".format(sa))\n",
    "    \n",
    "    # transforming data type \n",
    "    df['ENTRY_TIME'] = pd.to_datetime(df['ENTRY_TIME'],infer_datetime_format=True)\n",
    "    df['EXIT_TIME'] = pd.to_datetime(df['EXIT_TIME'],infer_datetime_format=True)\n",
    "    df['O_TIME'] = pd.to_datetime(df['O_TIME'],infer_datetime_format=True)\n",
    "    df['D_TIME'] = pd.to_datetime(df['D_TIME'],infer_datetime_format=True)\n",
    "    print(\"{0} : done transforming data type ...\".format(sa))\n",
    "    \n",
    "    df.to_sql(\"{0}\".format(sa), engine, if_exists='replace', chunksize=20)\n",
    "    print(\"{0} : data inserted successfully !\".format(sa))"
   ]
  },
  {
   "cell_type": "code",
   "execution_count": 18,
   "metadata": {},
   "outputs": [
    {
     "name": "stdout",
     "output_type": "stream",
     "text": [
      "Huko : process begin ...\n",
      "===encounter file Huko...DO IT!!===\n",
      "Huko : done loading data ...\n",
      "Huko : done transforming data type ...\n",
      "Huko : data inserted successfully !\n",
      "Guanxi : process begin ...\n",
      "===encounter file Guanxi...DO IT!!===\n",
      "Guanxi : done loading data ...\n",
      "Guanxi : done transforming data type ...\n",
      "Guanxi : data inserted successfully !\n"
     ]
    }
   ],
   "source": [
    "# SA_name = [\"Taian\", \"Zhongli\", \"Xihu\", \"Xilou\", \"Nantou\", \"QingShui\", \"Huko\", \"Guanxi\"]\n",
    "SA_name = [\"Huko\", \"Guanxi\"]\n",
    "for sa in SA_name :\n",
    "    print(\"{0} : process begin ...\".format(sa))\n",
    "    if sa in [\"Huko\", \"Guanxi\"] :\n",
    "        print(\"===encounter file {0}...DO IT!!===\".format(sa))\n",
    "        #continue\n",
    "        df = pd.read_csv('C://Users//AthenaLee//Documents//code//data//data_SA//{0}.csv'.format(sa), low_memory=False)\n",
    "    elif sa == \"Zhongli\" :\n",
    "        df_N = pd.read_csv('C://Users//AthenaLee//Documents//code//data//data_SA//Zhongli_N.csv', low_memory=False)\n",
    "        df_S = pd.read_csv('C://Users//AthenaLee//Documents//code//data//data_SA//Zhongli_S.csv', low_memory=False)\n",
    "        df = df = pd.concat([df_N, df_S])\n",
    "    else :\n",
    "        df = pd.read_csv('C://Users//AthenaLee//Documents//code//data//data_SA//{0}.csv'.format(sa), low_memory=False)\n",
    "    print(\"{0} : done loading data ...\".format(sa))\n",
    "    \n",
    "    # transforming data type \n",
    "    df['ENTRY_TIME'] = pd.to_datetime(df['ENTRY_TIME'],infer_datetime_format=True)\n",
    "    df['EXIT_TIME'] = pd.to_datetime(df['EXIT_TIME'],infer_datetime_format=True)\n",
    "    df['O_TIME'] = pd.to_datetime(df['O_TIME'],infer_datetime_format=True)\n",
    "    df['D_TIME'] = pd.to_datetime(df['D_TIME'],infer_datetime_format=True)\n",
    "    print(\"{0} : done transforming data type ...\".format(sa))\n",
    "    \n",
    "    df.to_sql(\"{0}\".format(sa), engine, if_exists='replace', chunksize=20)\n",
    "    print(\"{0} : data inserted successfully !\".format(sa))"
   ]
  },
  {
   "cell_type": "code",
   "execution_count": null,
   "metadata": {},
   "outputs": [],
   "source": []
  },
  {
   "cell_type": "code",
   "execution_count": null,
   "metadata": {},
   "outputs": [],
   "source": []
  },
  {
   "cell_type": "code",
   "execution_count": null,
   "metadata": {},
   "outputs": [],
   "source": []
  }
 ],
 "metadata": {
  "kernelspec": {
   "display_name": "Python 3",
   "language": "python",
   "name": "python3"
  },
  "language_info": {
   "codemirror_mode": {
    "name": "ipython",
    "version": 3
   },
   "file_extension": ".py",
   "mimetype": "text/x-python",
   "name": "python",
   "nbconvert_exporter": "python",
   "pygments_lexer": "ipython3",
   "version": "3.6.5"
  }
 },
 "nbformat": 4,
 "nbformat_minor": 2
}
